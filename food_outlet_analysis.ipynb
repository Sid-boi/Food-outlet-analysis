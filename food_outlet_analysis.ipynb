{
 "cells": [
  {
   "cell_type": "code",
   "execution_count": 45,
   "metadata": {},
   "outputs": [],
   "source": [
    "import sklearn.feature_extraction.text as txt\n",
    "from sklearn import svm\n",
    "from joblib import dump\n",
    "from snowflake.snowpark import functions as fn\n",
    "from snowflake.snowpark.session import Session\n",
    "from snowflake.ml.utils.connection_params import SnowflakeLoginOptions"
   ]
  },
  {
   "cell_type": "code",
   "execution_count": null,
   "metadata": {},
   "outputs": [],
   "source": [
    "connection_parameters = {\n",
    "    \"account\": \"izoloqm-uv99170\",\n",
    "    \"user\": \"xyz\",\n",
    "    \"password\": \"xyz\",\n",
    "    \"role\": \"accountadmin\",\n",
    "    \"warehouse\": \"compute_wh\",\n",
    "    \"database\": \"test\",\n",
    "    \"schema\": \"public\"\n",
    "}\n",
    "\n",
    "session = Session.builder.configs(connection_parameters).create()"
   ]
  },
  {
   "cell_type": "code",
   "execution_count": 47,
   "metadata": {},
   "outputs": [],
   "source": [
    "import snowflake.snowpark.functions as F"
   ]
  },
  {
   "cell_type": "code",
   "execution_count": 48,
   "metadata": {},
   "outputs": [
    {
     "data": {
      "text/plain": [
       "StructType([StructField('ORDER_ID', StringType(20), nullable=True), StructField('CUSTOMER_CODE', StringType(20), nullable=True), StructField('PLACED_AT', TimestampType(tz=ntz), nullable=True), StructField('RESTAURANT_ID', StringType(10), nullable=True), StructField('CUISINE', StringType(20), nullable=True), StructField('ORDER_STATUS', StringType(20), nullable=True), StructField('PROMO_CODE_NAME', StringType(20), nullable=True)])"
      ]
     },
     "execution_count": 48,
     "metadata": {},
     "output_type": "execute_result"
    }
   ],
   "source": [
    "df=session.table('orders')\n",
    "df.schema"
   ]
  },
  {
   "cell_type": "code",
   "execution_count": 49,
   "metadata": {},
   "outputs": [
    {
     "name": "stdout",
     "output_type": "stream",
     "text": [
      "----------------------------------------------------------------------------------------------------------------------------\n",
      "|\"ORDER_ID\"    |\"CUSTOMER_CODE\"   |\"PLACED_AT\"          |\"RESTAURANT_ID\"  |\"CUISINE\"  |\"ORDER_STATUS\"  |\"PROMO_CODE_NAME\"  |\n",
      "----------------------------------------------------------------------------------------------------------------------------\n",
      "|OF1900191801  |UFDDN1991918XUY1  |2025-01-01 15:30:20  |KMKMH6787        |Lebanese   |Delivered       |Tasty50            |\n",
      "|OF1900191802  |UFDDN1991918XUY1  |2025-01-02 12:15:45  |LEBANESE2        |Lebanese   |Delivered       |NULL               |\n",
      "|OF1900191803  |UFDDN1991918XUY1  |2025-01-10 18:45:30  |PIZZA123         |Italian    |Cancelled       |HUNGRY20           |\n",
      "|OF1900191804  |UFDDN1991918XUY1  |2025-01-15 19:20:15  |ITALIAN2         |Italian    |Delivered       |NULL               |\n",
      "|OF1900191805  |UFDDN1991918XUY1  |2025-01-20 11:30:00  |BURGER99         |American   |Delivered       |NULL               |\n",
      "----------------------------------------------------------------------------------------------------------------------------\n",
      "\n"
     ]
    }
   ],
   "source": [
    "df.show(5)"
   ]
  },
  {
   "cell_type": "code",
   "execution_count": 50,
   "metadata": {},
   "outputs": [
    {
     "name": "stdout",
     "output_type": "stream",
     "text": [
      "------------------------------------------------\n",
      "|\"RESTAURANT_ID\"  |\"CUISINE\"  |\"TOTAL_ORDERS\"  |\n",
      "------------------------------------------------\n",
      "|KMKMH6787        |Lebanese   |10              |\n",
      "|ITALIAN2         |Italian    |6               |\n",
      "|AMERICAN2        |American   |6               |\n",
      "|SUSHI456         |Japanese   |6               |\n",
      "|TACO789          |Mexican    |7               |\n",
      "|PIZZA123         |Italian    |10              |\n",
      "|BURGER99         |American   |8               |\n",
      "|LEBANESE2        |Lebanese   |9               |\n",
      "|MEXICAN2         |Mexican    |6               |\n",
      "|JAPANESE2        |Japanese   |5               |\n",
      "------------------------------------------------\n",
      "\n"
     ]
    }
   ],
   "source": [
    "#task1:print the restaurant which has topmost orders with a specific cuisine without using limit and top\n",
    "agg_df=df.group_by([F.col('RESTAURANT_ID'),F.col('CUISINE')]).agg(F.count('*').alias('total_orders')\n",
    "                                                                  )\n",
    "agg_df.show(10)"
   ]
  },
  {
   "cell_type": "code",
   "execution_count": 51,
   "metadata": {},
   "outputs": [
    {
     "name": "stdout",
     "output_type": "stream",
     "text": [
      "-------------------------------------------------------------------\n",
      "|\"RESTAURANT_ID\"  |\"CUISINE\"  |\"TOTAL_ORDERS\"  |\"ORDERS_RANKING\"  |\n",
      "-------------------------------------------------------------------\n",
      "|BURGER99         |American   |8               |1                 |\n",
      "|PIZZA123         |Italian    |10              |1                 |\n",
      "|KMKMH6787        |Lebanese   |10              |1                 |\n",
      "|TACO789          |Mexican    |7               |1                 |\n",
      "|SUSHI456         |Japanese   |6               |1                 |\n",
      "-------------------------------------------------------------------\n",
      "\n"
     ]
    }
   ],
   "source": [
    "#create Window function\n",
    "from snowflake.snowpark.functions import col, avg\n",
    "from snowflake.snowpark import Window\n",
    "window_orders = Window.partition_by([F.col('cuisine')]).order_by(F.col('total_orders').desc())\n",
    "agg_df.select(F.col('restaurant_id'),F.col('cuisine'),F.col('total_orders'),F.row_number().over(window_orders).alias('orders_ranking')).filter(F.col('orders_ranking') == 1).show()"
   ]
  },
  {
   "cell_type": "code",
   "execution_count": 52,
   "metadata": {},
   "outputs": [
    {
     "name": "stdout",
     "output_type": "stream",
     "text": [
      "----------------------------------------------\n",
      "|\"FIRST_ORDER_DATE\"  |\"TOTAL_NEW_CUSTOMERS\"  |\n",
      "----------------------------------------------\n",
      "|2025-01-01          |2                      |\n",
      "|2025-01-02          |1                      |\n",
      "|2025-01-03          |1                      |\n",
      "|2025-01-04          |1                      |\n",
      "|2025-01-05          |3                      |\n",
      "|2025-01-06          |1                      |\n",
      "|2025-01-07          |1                      |\n",
      "|2025-01-08          |1                      |\n",
      "|2025-01-09          |1                      |\n",
      "|2025-01-10          |3                      |\n",
      "----------------------------------------------\n",
      "\n"
     ]
    }
   ],
   "source": [
    "#get the number of new customers each day at the outlet\n",
    "from snowflake.snowpark.types import DateType\n",
    "customer_first_order_date_df=df.with_column('order_date',F.cast(F.col('placed_at'),DateType())).group_by(F.col('customer_code')).agg(F.min(F.col('order_date')).alias('first_order_date'))\n",
    "customer_first_order_date_df.group_by('first_order_date').agg(F.count('*').alias('total_new_customers')).order_by(F.col('first_order_date')).show()\n"
   ]
  },
  {
   "cell_type": "code",
   "execution_count": 53,
   "metadata": {},
   "outputs": [],
   "source": [
    "customers_only_in_feb_march=[ i[0] for i in df.with_column('order_date',F.cast(F.col('placed_at'),DateType())).filter(F.month(F.col('order_date'))!=1  ).select(F.col('customer_code')).distinct().collect()]\n"
   ]
  },
  {
   "cell_type": "code",
   "execution_count": 54,
   "metadata": {},
   "outputs": [
    {
     "data": {
      "text/plain": [
       "['NO_ORDER_RECENT',\n",
       " 'UVW7890123456JKL',\n",
       " 'MULTI_CUISINE_CUST',\n",
       " 'LAST_ORDER_7DAYS',\n",
       " 'DEF9876543210XYZ',\n",
       " 'UFDDN1991918XUY1',\n",
       " 'NO_ORDER_LAST7_2',\n",
       " 'ABC9876543210MNO',\n",
       " 'CDE3456789012GHI',\n",
       " 'NO_ORDER_LAST7_1',\n",
       " 'ZZZ9876543210MNO',\n",
       " 'PROMO_FIRST_ONLY']"
      ]
     },
     "execution_count": 54,
     "metadata": {},
     "output_type": "execute_result"
    }
   ],
   "source": [
    "customers_only_in_feb_march"
   ]
  },
  {
   "cell_type": "code",
   "execution_count": 55,
   "metadata": {},
   "outputs": [
    {
     "name": "stdout",
     "output_type": "stream",
     "text": [
      "--------------------\n",
      "|\"CUSTOMER_CODE\"   |\n",
      "--------------------\n",
      "|GHI5678901234XYZ  |\n",
      "|YZA3456789012ABC  |\n",
      "|LMN9876543210JKL  |\n",
      "|MNO7890123456XYZ  |\n",
      "|VWX5678901234ABC  |\n",
      "|SINGLE_ORDER_JAN  |\n",
      "|BCD7890123456ABC  |\n",
      "|ABC1234567890XYZ  |\n",
      "|DEF5678901234MNO  |\n",
      "|ABC1234567890XYZ  |\n",
      "--------------------\n",
      "\n"
     ]
    }
   ],
   "source": [
    "df.with_column('order_date',F.cast(F.col('placed_at'),DateType())).filter(F.month(F.col('order_date'))==1 & (~F.col('customer_code').in_(customers_only_in_feb_march))  ).distinct().select(F.col('customer_code')).show()"
   ]
  },
  {
   "cell_type": "code",
   "execution_count": 57,
   "metadata": {},
   "outputs": [
    {
     "name": "stdout",
     "output_type": "stream",
     "text": [
      "---------------------------------------------------------------\n",
      "|\"CUSTOMER_CODE\"   |\"FIRST_ORDER_DATE\"  |\"LATEST_ORDER_DATE\"  |\n",
      "---------------------------------------------------------------\n",
      "|PQR1234567890ABC  |2025-01-06          |2025-01-06           |\n",
      "|QRS7890123456DEF  |2025-01-15          |2025-01-15           |\n",
      "|CDE3456789012GHI  |2025-01-19          |2025-03-27           |\n",
      "|TUV1234567890GHI  |2025-01-16          |2025-01-16           |\n",
      "|SINGLE_ORDER_JAN  |2025-01-10          |2025-01-10           |\n",
      "|GHI5678901234XYZ  |2025-01-03          |2025-01-03           |\n",
      "|VWX5678901234ABC  |2025-01-08          |2025-01-08           |\n",
      "|ZAB5678901234GHI  |2025-01-18          |2025-01-18           |\n",
      "|PQR9876543210PQR  |2025-01-31          |2025-01-31           |\n",
      "|JAN_ONLY_ORDER2   |2025-01-20          |2025-01-20           |\n",
      "---------------------------------------------------------------\n",
      "\n"
     ]
    }
   ],
   "source": [
    "customer_first_and_last_date=df.with_column('order_date',F.cast(F.col('placed_at'),DateType())).group_by(F.col('customer_code')).agg(F.min(F.col('order_date')).alias('first_order_date'),F.max(F.col('order_date')).alias('latest_order_date'))\n",
    "customer_first_and_last_date.show()"
   ]
  },
  {
   "cell_type": "code",
   "execution_count": 76,
   "metadata": {},
   "outputs": [
    {
     "name": "stdout",
     "output_type": "stream",
     "text": [
      "------------------------------------------------------------------------------------\n",
      "|\"CUSTOMER_CODE\"    |\"FIRST_ORDER_DATE\"  |\"LATEST_ORDER_DATE\"  |\"PROMO_CODE_NAME\"  |\n",
      "------------------------------------------------------------------------------------\n",
      "|ABC1234567890XYZ   |2025-01-01          |2025-01-05           |NEWUSER            |\n",
      "|DEF9876543210XYZ   |2025-01-02          |2025-03-02           |FIRSTORDER         |\n",
      "|GHI5678901234XYZ   |2025-01-03          |2025-01-03           |NEWUSER            |\n",
      "|JKL3456789012XYZ   |2025-01-04          |2025-01-04           |FIRSTORDER         |\n",
      "|PQR1234567890ABC   |2025-01-06          |2025-01-06           |NEWUSER            |\n",
      "|VWX5678901234ABC   |2025-01-08          |2025-01-08           |FIRSTORDER         |\n",
      "|BCD7890123456ABC   |2025-01-10          |2025-01-10           |NEWUSER            |\n",
      "|HIJ9876543210DEF   |2025-01-12          |2025-01-12           |FIRSTORDER         |\n",
      "|QRS7890123456DEF   |2025-01-15          |2025-01-15           |NEWUSER            |\n",
      "|WXY9876543210GHI   |2025-01-17          |2025-01-17           |FIRSTORDER         |\n",
      "|FGH7890123456GHI   |2025-01-20          |2025-01-20           |NEWUSER            |\n",
      "|LMN9876543210JKL   |2025-01-22          |2025-01-22           |FIRSTORDER         |\n",
      "|ABC9876543210MNO   |2025-01-27          |2025-03-15           |FIRSTORDER         |\n",
      "|JKL7890123456MNO   |2025-01-30          |2025-01-30           |NEWUSER            |\n",
      "|PQR9876543210PQR   |2025-01-31          |2025-01-31           |FIRSTORDER         |\n",
      "|JAN_ONLY_ORDER1    |2025-01-15          |2025-01-15           |NEWUSER            |\n",
      "|JAN_ONLY_ORDER2    |2025-01-20          |2025-01-20           |FIRSTORDER         |\n",
      "|NO_ORDER_LAST7_1   |2025-02-01          |2025-02-01           |NEWUSER            |\n",
      "|NO_ORDER_LAST7_2   |2025-02-05          |2025-02-05           |FIRSTORDER         |\n",
      "|THIRD_ORDER_CUST1  |2025-01-05          |2025-01-15           |NEWUSER            |\n",
      "------------------------------------------------------------------------------------\n",
      "\n"
     ]
    }
   ],
   "source": [
    "from datetime import datetime, timedelta\n",
    "reference_date=datetime(2025,3,31)\n",
    "customer_first_and_last_date.join(df.select(F.col('customer_code'),F.col('promo_code_name')),on='customer_code',how='inner').filter(\n",
    "    (F.col('latest_order_date') <= reference_date - timedelta(days=7)) & (F.col('first_order_date') <= reference_date - timedelta(days=30)) \n",
    "    & (F.col('PROMO_CODE_NAME').is_not_null())).show(20)"
   ]
  },
  {
   "cell_type": "code",
   "execution_count": null,
   "metadata": {},
   "outputs": [
    {
     "name": "stdout",
     "output_type": "stream",
     "text": [
      "--------------------------------------------------------------------------------------------------------------------------------------------------------------\n",
      "|\"ORDER_ID\"    |\"CUSTOMER_CODE\"     |\"PLACED_AT\"          |\"RESTAURANT_ID\"  |\"CUISINE\"  |\"ORDER_STATUS\"  |\"PROMO_CODE_NAME\"  |\"ORDER_DATE\"  |\"ORDER_NUMBER\"  |\n",
      "--------------------------------------------------------------------------------------------------------------------------------------------------------------\n",
      "|OF1900191870  |MULTI_CUISINE_CUST  |2025-03-31 14:45:00  |PIZZA123         |Italian    |Delivered       |NULL               |2025-03-31    |6               |\n",
      "|OF1900191864  |LAST_ORDER_7DAYS    |2025-03-31 16:30:00  |KMKMH6787        |Lebanese   |Delivered       |NULL               |2025-03-31    |3               |\n",
      "--------------------------------------------------------------------------------------------------------------------------------------------------------------\n",
      "\n"
     ]
    }
   ],
   "source": [
    "#get customers if they place their 3rd order today thats  every 3rd order they will be communicated for discount\n",
    "\n",
    "third_order_window=Window.partition_by(F.col('customer_code')).order_by(F.col('order_date'))\n",
    "df.with_columns(['order_date','order_number'],[F.cast(F.col('placed_at'),DateType()),F.row_number().over(third_order_window)]).filter(\n",
    "    (F.col('order_number')%3==0) & (F.col('order_date') == reference_date)).show()"
   ]
  },
  {
   "cell_type": "code",
   "execution_count": 75,
   "metadata": {},
   "outputs": [
    {
     "name": "stdout",
     "output_type": "stream",
     "text": [
      "---------------------------------------------------------------------\n",
      "|\"CUSTOMER_CODE\"   |\"TOTAL_NUMBER_OF_ORDERS\"  |\"TOTAL_COUPON_USED\"  |\n",
      "---------------------------------------------------------------------\n",
      "|DEF9876543210XYZ  |2                         |2                    |\n",
      "|UVW7890123456JKL  |3                         |3                    |\n",
      "---------------------------------------------------------------------\n",
      "\n"
     ]
    }
   ],
   "source": [
    "#customers who only order with promo code\n",
    "\n",
    "df.group_by(F.col('customer_code')).agg(F.count('*').alias('total_number_of_orders'),\n",
    "                                    F.count(F.col('promo_code_name')).alias('total_coupon_used')).filter((F.col('total_number_of_orders')==F.col('total_coupon_used'))\n",
    "                                         & (F.col('total_number_of_orders') >1 )).show()"
   ]
  },
  {
   "cell_type": "code",
   "execution_count": null,
   "metadata": {},
   "outputs": [
    {
     "name": "stdout",
     "output_type": "stream",
     "text": [
      "-----------------------------------------------------------\n",
      "|\"FIRST_ORDER_WITHOUT_PROMOCODE\"  |\"NUMBER_OF_CUSTOMERS\"  |\n",
      "-----------------------------------------------------------\n",
      "|23                               |41                     |\n",
      "-----------------------------------------------------------\n",
      "\n"
     ]
    }
   ],
   "source": [
    "#total customers in month of jan and total number of customers whose first order was without promocode\n",
    "order_window=Window.partition_by(F.col('customer_code')).order_by(F.col('order_date'))\n",
    "df.with_columns(['order_date','order_number'],[F.cast(F.col('placed_at'),DateType()),F.row_number().over(order_window)]).where(\n",
    "    F.month(F.col('order_date')) == 1).select(F.sum(F.when((F.col('order_number') == 1) & \n",
    "                                                        (F.col('promo_code_name').is_not_null()),F.lit(1)).otherwise(F.lit(0))).alias('first_order_without_promocode'),F.count_distinct(F.col('customer_code')).alias('number_of_customers')).show()"
   ]
  },
  {
   "cell_type": "code",
   "execution_count": 78,
   "metadata": {},
   "outputs": [
    {
     "ename": "ImportError",
     "evalue": "cannot import name 'iif' from 'snowflake.snowpark.functions' (d:\\anaconda\\envs\\snowflake_env\\lib\\site-packages\\snowflake\\snowpark\\functions.py)",
     "output_type": "error",
     "traceback": [
      "\u001b[1;31m---------------------------------------------------------------------------\u001b[0m",
      "\u001b[1;31mImportError\u001b[0m                               Traceback (most recent call last)",
      "Cell \u001b[1;32mIn[78], line 1\u001b[0m\n\u001b[1;32m----> 1\u001b[0m \u001b[38;5;28;01mfrom\u001b[39;00m\u001b[38;5;250m \u001b[39m\u001b[38;5;21;01msnowflake\u001b[39;00m\u001b[38;5;21;01m.\u001b[39;00m\u001b[38;5;21;01msnowpark\u001b[39;00m\u001b[38;5;21;01m.\u001b[39;00m\u001b[38;5;21;01mfunctions\u001b[39;00m\u001b[38;5;250m \u001b[39m\u001b[38;5;28;01mimport\u001b[39;00m iif, col, lit\n",
      "\u001b[1;31mImportError\u001b[0m: cannot import name 'iif' from 'snowflake.snowpark.functions' (d:\\anaconda\\envs\\snowflake_env\\lib\\site-packages\\snowflake\\snowpark\\functions.py)"
     ]
    }
   ],
   "source": [
    "from snowflake.snowpark.functions import iif, col, lit\n"
   ]
  },
  {
   "cell_type": "code",
   "execution_count": null,
   "metadata": {},
   "outputs": [],
   "source": []
  }
 ],
 "metadata": {
  "kernelspec": {
   "display_name": "snowflake_env",
   "language": "python",
   "name": "python3"
  },
  "language_info": {
   "codemirror_mode": {
    "name": "ipython",
    "version": 3
   },
   "file_extension": ".py",
   "mimetype": "text/x-python",
   "name": "python",
   "nbconvert_exporter": "python",
   "pygments_lexer": "ipython3",
   "version": "3.9.21"
  }
 },
 "nbformat": 4,
 "nbformat_minor": 2
}
